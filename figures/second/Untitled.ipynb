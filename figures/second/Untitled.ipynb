{
 "cells": [
  {
   "cell_type": "code",
   "execution_count": 1,
   "metadata": {},
   "outputs": [
    {
     "name": "stdout",
     "output_type": "stream",
     "text": [
      "Connecting root@127.0.0.1:3306\n"
     ]
    }
   ],
   "source": [
    "# %%\n",
    "import sys\n",
    "from pathlib import Path\n",
    "import matplotlib.pyplot as plt\n",
    "import os\n",
    "import numpy as np\n",
    "import pandas as pd\n",
    "\n",
    "\n",
    "from pigeon import annotate\n",
    "from IPython.display import display\n",
    "from PIL import Image\n",
    "\n",
    "module_path = Path(os.path.abspath(os.path.join(\".\"))).parent.parent\n",
    "sys.path.append(str(module_path))\n",
    "sys.path.append('./')\n",
    "\n",
    "from fcutils.video import get_cap_from_file, get_cap_selected_frame\n",
    "from fcutils.progress import track\n",
    "from fcutils.path import to_yaml\n",
    "\n",
    "from paper import Session, Stimuli, Recording\n"
   ]
  },
  {
   "cell_type": "code",
   "execution_count": 2,
   "metadata": {},
   "outputs": [
    {
     "name": "stdout",
     "output_type": "stream",
     "text": [
      "430\n"
     ]
    }
   ],
   "source": [
    "\n",
    "# %%\n",
    "# get all trials\n",
    "sessions = pd.concat([pd.DataFrame(Session & 'experiment_name=\"Model Based V2\"'), \n",
    "            pd.DataFrame(Session & 'experiment_name=\"Model Based V3\"')]).reset_index()\n",
    "\n",
    "stimuli = []\n",
    "for i, sess in sessions.iterrows():\n",
    "    stimuli.append(pd.DataFrame(Stimuli & f'uid={sess.uid}'))\n",
    "    \n",
    "stimuli = pd.concat(stimuli).reset_index()\n",
    "print(len(stimuli))\n"
   ]
  },
  {
   "cell_type": "code",
   "execution_count": 3,
   "metadata": {},
   "outputs": [
    {
     "data": {
      "text/html": [
       "<div>\n",
       "<style scoped>\n",
       "    .dataframe tbody tr th:only-of-type {\n",
       "        vertical-align: middle;\n",
       "    }\n",
       "\n",
       "    .dataframe tbody tr th {\n",
       "        vertical-align: top;\n",
       "    }\n",
       "\n",
       "    .dataframe thead th {\n",
       "        text-align: right;\n",
       "    }\n",
       "</style>\n",
       "<table border=\"1\" class=\"dataframe\">\n",
       "  <thead>\n",
       "    <tr style=\"text-align: right;\">\n",
       "      <th></th>\n",
       "      <th>index</th>\n",
       "      <th>recording_uid</th>\n",
       "      <th>uid</th>\n",
       "      <th>session_name</th>\n",
       "      <th>mouse_id</th>\n",
       "      <th>stimulus_uid</th>\n",
       "      <th>overview_frame</th>\n",
       "      <th>overview_frame_off</th>\n",
       "      <th>duration</th>\n",
       "      <th>stim_type</th>\n",
       "      <th>stim_name</th>\n",
       "    </tr>\n",
       "  </thead>\n",
       "  <tbody>\n",
       "    <tr>\n",
       "      <th>0</th>\n",
       "      <td>0</td>\n",
       "      <td>190328_CA535</td>\n",
       "      <td>268</td>\n",
       "      <td>190328_CA535</td>\n",
       "      <td>CA535</td>\n",
       "      <td>190328_CA535_0</td>\n",
       "      <td>35625</td>\n",
       "      <td>35985</td>\n",
       "      <td>9.0</td>\n",
       "      <td>audio</td>\n",
       "      <td>/'WAVplayer'/'525681.174583'</td>\n",
       "    </tr>\n",
       "    <tr>\n",
       "      <th>1</th>\n",
       "      <td>1</td>\n",
       "      <td>190328_CA535</td>\n",
       "      <td>268</td>\n",
       "      <td>190328_CA535</td>\n",
       "      <td>CA535</td>\n",
       "      <td>190328_CA535_1</td>\n",
       "      <td>41210</td>\n",
       "      <td>41570</td>\n",
       "      <td>9.0</td>\n",
       "      <td>audio</td>\n",
       "      <td>/'WAVplayer'/'525820.788153'</td>\n",
       "    </tr>\n",
       "    <tr>\n",
       "      <th>2</th>\n",
       "      <td>2</td>\n",
       "      <td>190328_CA535</td>\n",
       "      <td>268</td>\n",
       "      <td>190328_CA535</td>\n",
       "      <td>CA535</td>\n",
       "      <td>190328_CA535_2</td>\n",
       "      <td>55399</td>\n",
       "      <td>55759</td>\n",
       "      <td>9.0</td>\n",
       "      <td>audio</td>\n",
       "      <td>/'WAVplayer'/'526175.536567'</td>\n",
       "    </tr>\n",
       "    <tr>\n",
       "      <th>3</th>\n",
       "      <td>3</td>\n",
       "      <td>190328_CA535</td>\n",
       "      <td>268</td>\n",
       "      <td>190328_CA535</td>\n",
       "      <td>CA535</td>\n",
       "      <td>190328_CA535_3</td>\n",
       "      <td>75049</td>\n",
       "      <td>75409</td>\n",
       "      <td>9.0</td>\n",
       "      <td>audio</td>\n",
       "      <td>/'WAVplayer'/'526666.783029'</td>\n",
       "    </tr>\n",
       "    <tr>\n",
       "      <th>4</th>\n",
       "      <td>0</td>\n",
       "      <td>190328_CA511</td>\n",
       "      <td>270</td>\n",
       "      <td>190328_CA511</td>\n",
       "      <td>CA511</td>\n",
       "      <td>190328_CA511_0</td>\n",
       "      <td>54990</td>\n",
       "      <td>55350</td>\n",
       "      <td>9.0</td>\n",
       "      <td>audio</td>\n",
       "      <td>/'WAVplayer'/'537890.530942'</td>\n",
       "    </tr>\n",
       "  </tbody>\n",
       "</table>\n",
       "</div>"
      ],
      "text/plain": [
       "   index recording_uid  uid  session_name mouse_id    stimulus_uid  \\\n",
       "0      0  190328_CA535  268  190328_CA535    CA535  190328_CA535_0   \n",
       "1      1  190328_CA535  268  190328_CA535    CA535  190328_CA535_1   \n",
       "2      2  190328_CA535  268  190328_CA535    CA535  190328_CA535_2   \n",
       "3      3  190328_CA535  268  190328_CA535    CA535  190328_CA535_3   \n",
       "4      0  190328_CA511  270  190328_CA511    CA511  190328_CA511_0   \n",
       "\n",
       "   overview_frame  overview_frame_off  duration stim_type  \\\n",
       "0           35625               35985       9.0     audio   \n",
       "1           41210               41570       9.0     audio   \n",
       "2           55399               55759       9.0     audio   \n",
       "3           75049               75409       9.0     audio   \n",
       "4           54990               55350       9.0     audio   \n",
       "\n",
       "                      stim_name  \n",
       "0  /'WAVplayer'/'525681.174583'  \n",
       "1  /'WAVplayer'/'525820.788153'  \n",
       "2  /'WAVplayer'/'526175.536567'  \n",
       "3  /'WAVplayer'/'526666.783029'  \n",
       "4  /'WAVplayer'/'537890.530942'  "
      ]
     },
     "execution_count": 3,
     "metadata": {},
     "output_type": "execute_result"
    }
   ],
   "source": [
    "stimuli.head()"
   ]
  },
  {
   "cell_type": "code",
   "execution_count": 4,
   "metadata": {},
   "outputs": [
    {
     "data": {
      "application/vnd.jupyter.widget-view+json": {
       "model_id": "57dac2f61ac1488c9011968ad982a138",
       "version_major": 2,
       "version_minor": 0
      },
      "text/plain": [
       "Output()"
      ]
     },
     "metadata": {},
     "output_type": "display_data"
    }
   ],
   "source": [
    "\n",
    "def get_trial_frame(trial):\n",
    "    rec = pd.Series((\n",
    "        Recording.FilePaths & f'recording_uid=\"{trial.recording_uid}\"'\n",
    "    ).fetch1())\n",
    "\n",
    "    path = Path(rec.overview_video)\n",
    "    video_base = Path(r'Z:\\swc\\branco\\Federico\\raw_behaviour\\maze\\video')\n",
    "    video = get_cap_from_file(video_base / path.name)\n",
    "\n",
    "    return get_cap_selected_frame(video, trial.overview_frame + 5 * 40)\n",
    "\n",
    "\n",
    "# get frames\n",
    "images = {}\n",
    "for i, trial in track(stimuli.iterrows(), total=len(stimuli)):\n",
    "    images[trial.stimulus_uid + '_' + str(trial.overview_frame)] = get_trial_frame(trial)\n",
    "\n"
   ]
  },
  {
   "cell_type": "code",
   "execution_count": 5,
   "metadata": {},
   "outputs": [
    {
     "data": {
      "application/vnd.jupyter.widget-view+json": {
       "model_id": "d35c41bdf1394c518301d8844780bedb",
       "version_major": 2,
       "version_minor": 0
      },
      "text/plain": [
       "HTML(value='0 examples annotated, 431 examples left')"
      ]
     },
     "metadata": {},
     "output_type": "display_data"
    },
    {
     "data": {
      "application/vnd.jupyter.widget-view+json": {
       "model_id": "ea84f9d58bf244078c21154953293966",
       "version_major": 2,
       "version_minor": 0
      },
      "text/plain": [
       "HBox(children=(Button(description='open', style=ButtonStyle()), Button(description='closed', style=ButtonStyle…"
      ]
     },
     "metadata": {},
     "output_type": "display_data"
    },
    {
     "data": {
      "application/vnd.jupyter.widget-view+json": {
       "model_id": "7a788ebef0744c33a145c1901e39e5b7",
       "version_major": 2,
       "version_minor": 0
      },
      "text/plain": [
       "Output()"
      ]
     },
     "metadata": {},
     "output_type": "display_data"
    },
    {
     "name": "stdout",
     "output_type": "stream",
     "text": [
      "Annotation done.\n"
     ]
    }
   ],
   "source": [
    "\n",
    "def display_image(image):\n",
    "    print(image)\n",
    "    img = Image.fromarray(images[image]).resize((500, 400))\n",
    "    display(img)\n",
    "\n",
    "\n",
    "# %%\n",
    "# annotate\n",
    "annotations = annotate(\n",
    "    images.keys(),\n",
    "    options=['open', 'closed', 'skip'],\n",
    "    display_fn=display_image\n",
    ")\n"
   ]
  },
  {
   "cell_type": "code",
   "execution_count": 6,
   "metadata": {},
   "outputs": [],
   "source": [
    "\n",
    "# %%\n",
    "to_yaml('mb_annotations.yaml', {k:v for k,v in annotations})\n",
    "# %%\n"
   ]
  },
  {
   "cell_type": "code",
   "execution_count": null,
   "metadata": {},
   "outputs": [],
   "source": []
  }
 ],
 "metadata": {
  "kernelspec": {
   "display_name": "Python 3.6.7 64-bit ('behav': conda)",
   "language": "python",
   "name": "python36764bitbehavconda06ccb247f62842b6a04b2ae1ba52fdc0"
  },
  "language_info": {
   "codemirror_mode": {
    "name": "ipython",
    "version": 3
   },
   "file_extension": ".py",
   "mimetype": "text/x-python",
   "name": "python",
   "nbconvert_exporter": "python",
   "pygments_lexer": "ipython3",
   "version": "3.6.7"
  }
 },
 "nbformat": 4,
 "nbformat_minor": 4
}
